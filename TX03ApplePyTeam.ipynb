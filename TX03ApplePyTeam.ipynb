{
 "cells": [
  {
   "cell_type": "markdown",
   "id": "6ee16c31",
   "metadata": {},
   "source": [
    "TX03 Project Team ApplePy"
   ]
  },
  {
   "cell_type": "code",
   "execution_count": 38,
   "id": "ec1e5769",
   "metadata": {},
   "outputs": [],
   "source": [
    "import numpy as np\n",
    "import pandas as pd\n",
    "import matplotlib.pyplot as plt\n",
    "import seaborn as sb"
   ]
  },
  {
   "cell_type": "markdown",
   "id": "785822c2",
   "metadata": {},
   "source": [
    "DARK MODE ACTIVATION"
   ]
  },
  {
   "cell_type": "code",
   "execution_count": 39,
   "id": "53c9c84c",
   "metadata": {},
   "outputs": [],
   "source": [
    "plt.style.use('dark_background')  #  DARK MODE VISUALIZATION"
   ]
  },
  {
   "cell_type": "markdown",
   "id": "2f2b9a48",
   "metadata": {},
   "source": [
    "Load StarWars file"
   ]
  },
  {
   "cell_type": "code",
   "execution_count": 40,
   "id": "282a3273",
   "metadata": {},
   "outputs": [],
   "source": [
    "data = pd.read_csv('StarWars.csv', encoding='latin')"
   ]
  },
  {
   "cell_type": "code",
   "execution_count": 41,
   "id": "afdc3584",
   "metadata": {
    "scrolled": true
   },
   "outputs": [
    {
     "data": {
      "text/html": [
       "<div>\n",
       "<style scoped>\n",
       "    .dataframe tbody tr th:only-of-type {\n",
       "        vertical-align: middle;\n",
       "    }\n",
       "\n",
       "    .dataframe tbody tr th {\n",
       "        vertical-align: top;\n",
       "    }\n",
       "\n",
       "    .dataframe thead th {\n",
       "        text-align: right;\n",
       "    }\n",
       "</style>\n",
       "<table border=\"1\" class=\"dataframe\">\n",
       "  <thead>\n",
       "    <tr style=\"text-align: right;\">\n",
       "      <th></th>\n",
       "      <th>RespondentID</th>\n",
       "      <th>Have you seen any of the 6 films in the Star Wars franchise?</th>\n",
       "      <th>Do you consider yourself to be a fan of the Star Wars film franchise?</th>\n",
       "      <th>Which of the following Star Wars films have you seen? Please select all that apply.</th>\n",
       "      <th>Unnamed: 4</th>\n",
       "      <th>Unnamed: 5</th>\n",
       "      <th>Unnamed: 6</th>\n",
       "      <th>Unnamed: 7</th>\n",
       "      <th>Unnamed: 8</th>\n",
       "      <th>Please rank the Star Wars films in order of preference with 1 being your favorite film in the franchise and 6 being your least favorite film.</th>\n",
       "      <th>...</th>\n",
       "      <th>Unnamed: 28</th>\n",
       "      <th>Which character shot first?</th>\n",
       "      <th>Are you familiar with the Expanded Universe?</th>\n",
       "      <th>Do you consider yourself to be a fan of the Expanded Universe?æ</th>\n",
       "      <th>Do you consider yourself to be a fan of the Star Trek franchise?</th>\n",
       "      <th>Gender</th>\n",
       "      <th>Age</th>\n",
       "      <th>Household Income</th>\n",
       "      <th>Education</th>\n",
       "      <th>Location (Census Region)</th>\n",
       "    </tr>\n",
       "  </thead>\n",
       "  <tbody>\n",
       "    <tr>\n",
       "      <th>0</th>\n",
       "      <td>NaN</td>\n",
       "      <td>Response</td>\n",
       "      <td>Response</td>\n",
       "      <td>Star Wars: Episode I  The Phantom Menace</td>\n",
       "      <td>Star Wars: Episode II  Attack of the Clones</td>\n",
       "      <td>Star Wars: Episode III  Revenge of the Sith</td>\n",
       "      <td>Star Wars: Episode IV  A New Hope</td>\n",
       "      <td>Star Wars: Episode V The Empire Strikes Back</td>\n",
       "      <td>Star Wars: Episode VI Return of the Jedi</td>\n",
       "      <td>Star Wars: Episode I  The Phantom Menace</td>\n",
       "      <td>...</td>\n",
       "      <td>Yoda</td>\n",
       "      <td>Response</td>\n",
       "      <td>Response</td>\n",
       "      <td>Response</td>\n",
       "      <td>Response</td>\n",
       "      <td>Response</td>\n",
       "      <td>Response</td>\n",
       "      <td>Response</td>\n",
       "      <td>Response</td>\n",
       "      <td>Response</td>\n",
       "    </tr>\n",
       "    <tr>\n",
       "      <th>1</th>\n",
       "      <td>3.292880e+09</td>\n",
       "      <td>Yes</td>\n",
       "      <td>Yes</td>\n",
       "      <td>Star Wars: Episode I  The Phantom Menace</td>\n",
       "      <td>Star Wars: Episode II  Attack of the Clones</td>\n",
       "      <td>Star Wars: Episode III  Revenge of the Sith</td>\n",
       "      <td>Star Wars: Episode IV  A New Hope</td>\n",
       "      <td>Star Wars: Episode V The Empire Strikes Back</td>\n",
       "      <td>Star Wars: Episode VI Return of the Jedi</td>\n",
       "      <td>3</td>\n",
       "      <td>...</td>\n",
       "      <td>Very favorably</td>\n",
       "      <td>I don't understand this question</td>\n",
       "      <td>Yes</td>\n",
       "      <td>No</td>\n",
       "      <td>No</td>\n",
       "      <td>Male</td>\n",
       "      <td>18-29</td>\n",
       "      <td>NaN</td>\n",
       "      <td>High school degree</td>\n",
       "      <td>South Atlantic</td>\n",
       "    </tr>\n",
       "    <tr>\n",
       "      <th>2</th>\n",
       "      <td>3.292880e+09</td>\n",
       "      <td>No</td>\n",
       "      <td>NaN</td>\n",
       "      <td>NaN</td>\n",
       "      <td>NaN</td>\n",
       "      <td>NaN</td>\n",
       "      <td>NaN</td>\n",
       "      <td>NaN</td>\n",
       "      <td>NaN</td>\n",
       "      <td>NaN</td>\n",
       "      <td>...</td>\n",
       "      <td>NaN</td>\n",
       "      <td>NaN</td>\n",
       "      <td>NaN</td>\n",
       "      <td>NaN</td>\n",
       "      <td>Yes</td>\n",
       "      <td>Male</td>\n",
       "      <td>18-29</td>\n",
       "      <td>$0 - $24,999</td>\n",
       "      <td>Bachelor degree</td>\n",
       "      <td>West South Central</td>\n",
       "    </tr>\n",
       "    <tr>\n",
       "      <th>3</th>\n",
       "      <td>3.292765e+09</td>\n",
       "      <td>Yes</td>\n",
       "      <td>No</td>\n",
       "      <td>Star Wars: Episode I  The Phantom Menace</td>\n",
       "      <td>Star Wars: Episode II  Attack of the Clones</td>\n",
       "      <td>Star Wars: Episode III  Revenge of the Sith</td>\n",
       "      <td>NaN</td>\n",
       "      <td>NaN</td>\n",
       "      <td>NaN</td>\n",
       "      <td>1</td>\n",
       "      <td>...</td>\n",
       "      <td>Unfamiliar (N/A)</td>\n",
       "      <td>I don't understand this question</td>\n",
       "      <td>No</td>\n",
       "      <td>NaN</td>\n",
       "      <td>No</td>\n",
       "      <td>Male</td>\n",
       "      <td>18-29</td>\n",
       "      <td>$0 - $24,999</td>\n",
       "      <td>High school degree</td>\n",
       "      <td>West North Central</td>\n",
       "    </tr>\n",
       "    <tr>\n",
       "      <th>4</th>\n",
       "      <td>3.292763e+09</td>\n",
       "      <td>Yes</td>\n",
       "      <td>Yes</td>\n",
       "      <td>Star Wars: Episode I  The Phantom Menace</td>\n",
       "      <td>Star Wars: Episode II  Attack of the Clones</td>\n",
       "      <td>Star Wars: Episode III  Revenge of the Sith</td>\n",
       "      <td>Star Wars: Episode IV  A New Hope</td>\n",
       "      <td>Star Wars: Episode V The Empire Strikes Back</td>\n",
       "      <td>Star Wars: Episode VI Return of the Jedi</td>\n",
       "      <td>5</td>\n",
       "      <td>...</td>\n",
       "      <td>Very favorably</td>\n",
       "      <td>I don't understand this question</td>\n",
       "      <td>No</td>\n",
       "      <td>NaN</td>\n",
       "      <td>Yes</td>\n",
       "      <td>Male</td>\n",
       "      <td>18-29</td>\n",
       "      <td>$100,000 - $149,999</td>\n",
       "      <td>Some college or Associate degree</td>\n",
       "      <td>West North Central</td>\n",
       "    </tr>\n",
       "  </tbody>\n",
       "</table>\n",
       "<p>5 rows × 38 columns</p>\n",
       "</div>"
      ],
      "text/plain": [
       "   RespondentID Have you seen any of the 6 films in the Star Wars franchise?  \\\n",
       "0           NaN                                           Response             \n",
       "1  3.292880e+09                                                Yes             \n",
       "2  3.292880e+09                                                 No             \n",
       "3  3.292765e+09                                                Yes             \n",
       "4  3.292763e+09                                                Yes             \n",
       "\n",
       "  Do you consider yourself to be a fan of the Star Wars film franchise?  \\\n",
       "0                                           Response                      \n",
       "1                                                Yes                      \n",
       "2                                                NaN                      \n",
       "3                                                 No                      \n",
       "4                                                Yes                      \n",
       "\n",
       "  Which of the following Star Wars films have you seen? Please select all that apply.  \\\n",
       "0           Star Wars: Episode I  The Phantom Menace                                    \n",
       "1           Star Wars: Episode I  The Phantom Menace                                    \n",
       "2                                                NaN                                    \n",
       "3           Star Wars: Episode I  The Phantom Menace                                    \n",
       "4           Star Wars: Episode I  The Phantom Menace                                    \n",
       "\n",
       "                                    Unnamed: 4  \\\n",
       "0  Star Wars: Episode II  Attack of the Clones   \n",
       "1  Star Wars: Episode II  Attack of the Clones   \n",
       "2                                          NaN   \n",
       "3  Star Wars: Episode II  Attack of the Clones   \n",
       "4  Star Wars: Episode II  Attack of the Clones   \n",
       "\n",
       "                                    Unnamed: 5  \\\n",
       "0  Star Wars: Episode III  Revenge of the Sith   \n",
       "1  Star Wars: Episode III  Revenge of the Sith   \n",
       "2                                          NaN   \n",
       "3  Star Wars: Episode III  Revenge of the Sith   \n",
       "4  Star Wars: Episode III  Revenge of the Sith   \n",
       "\n",
       "                          Unnamed: 6  \\\n",
       "0  Star Wars: Episode IV  A New Hope   \n",
       "1  Star Wars: Episode IV  A New Hope   \n",
       "2                                NaN   \n",
       "3                                NaN   \n",
       "4  Star Wars: Episode IV  A New Hope   \n",
       "\n",
       "                                     Unnamed: 7  \\\n",
       "0  Star Wars: Episode V The Empire Strikes Back   \n",
       "1  Star Wars: Episode V The Empire Strikes Back   \n",
       "2                                           NaN   \n",
       "3                                           NaN   \n",
       "4  Star Wars: Episode V The Empire Strikes Back   \n",
       "\n",
       "                                 Unnamed: 8  \\\n",
       "0  Star Wars: Episode VI Return of the Jedi   \n",
       "1  Star Wars: Episode VI Return of the Jedi   \n",
       "2                                       NaN   \n",
       "3                                       NaN   \n",
       "4  Star Wars: Episode VI Return of the Jedi   \n",
       "\n",
       "  Please rank the Star Wars films in order of preference with 1 being your favorite film in the franchise and 6 being your least favorite film.  \\\n",
       "0           Star Wars: Episode I  The Phantom Menace                                                                                              \n",
       "1                                                  3                                                                                              \n",
       "2                                                NaN                                                                                              \n",
       "3                                                  1                                                                                              \n",
       "4                                                  5                                                                                              \n",
       "\n",
       "   ...       Unnamed: 28       Which character shot first?  \\\n",
       "0  ...              Yoda                          Response   \n",
       "1  ...    Very favorably  I don't understand this question   \n",
       "2  ...               NaN                               NaN   \n",
       "3  ...  Unfamiliar (N/A)  I don't understand this question   \n",
       "4  ...    Very favorably  I don't understand this question   \n",
       "\n",
       "  Are you familiar with the Expanded Universe?  \\\n",
       "0                                     Response   \n",
       "1                                          Yes   \n",
       "2                                          NaN   \n",
       "3                                           No   \n",
       "4                                           No   \n",
       "\n",
       "  Do you consider yourself to be a fan of the Expanded Universe?æ  \\\n",
       "0                                           Response                 \n",
       "1                                                 No                 \n",
       "2                                                NaN                 \n",
       "3                                                NaN                 \n",
       "4                                                NaN                 \n",
       "\n",
       "  Do you consider yourself to be a fan of the Star Trek franchise?    Gender  \\\n",
       "0                                           Response                Response   \n",
       "1                                                 No                    Male   \n",
       "2                                                Yes                    Male   \n",
       "3                                                 No                    Male   \n",
       "4                                                Yes                    Male   \n",
       "\n",
       "        Age     Household Income                         Education  \\\n",
       "0  Response             Response                          Response   \n",
       "1     18-29                  NaN                High school degree   \n",
       "2     18-29         $0 - $24,999                   Bachelor degree   \n",
       "3     18-29         $0 - $24,999                High school degree   \n",
       "4     18-29  $100,000 - $149,999  Some college or Associate degree   \n",
       "\n",
       "  Location (Census Region)  \n",
       "0                 Response  \n",
       "1           South Atlantic  \n",
       "2       West South Central  \n",
       "3       West North Central  \n",
       "4       West North Central  \n",
       "\n",
       "[5 rows x 38 columns]"
      ]
     },
     "execution_count": 41,
     "metadata": {},
     "output_type": "execute_result"
    }
   ],
   "source": [
    "data.head()"
   ]
  },
  {
   "cell_type": "code",
   "execution_count": 42,
   "id": "7698607b",
   "metadata": {},
   "outputs": [
    {
     "name": "stdout",
     "output_type": "stream",
     "text": [
      "<class 'pandas.core.frame.DataFrame'>\n"
     ]
    }
   ],
   "source": [
    "print(type(data))"
   ]
  },
  {
   "cell_type": "code",
   "execution_count": 43,
   "id": "619e7580",
   "metadata": {
    "scrolled": true
   },
   "outputs": [
    {
     "data": {
      "text/plain": [
       "1187"
      ]
     },
     "execution_count": 43,
     "metadata": {},
     "output_type": "execute_result"
    }
   ],
   "source": [
    "len(data)"
   ]
  },
  {
   "cell_type": "code",
   "execution_count": 44,
   "id": "eda9c571",
   "metadata": {
    "scrolled": true
   },
   "outputs": [
    {
     "data": {
      "text/plain": [
       "(1187, 38)"
      ]
     },
     "execution_count": 44,
     "metadata": {},
     "output_type": "execute_result"
    }
   ],
   "source": [
    "data.shape"
   ]
  },
  {
   "cell_type": "code",
   "execution_count": 45,
   "id": "4af8efd2",
   "metadata": {},
   "outputs": [
    {
     "data": {
      "text/plain": [
       "132"
      ]
     },
     "execution_count": 45,
     "metadata": {},
     "output_type": "execute_result"
    }
   ],
   "source": [
    "datana = data.dropna()\n",
    "len(datana)"
   ]
  },
  {
   "cell_type": "code",
   "execution_count": 46,
   "id": "3e98b20a",
   "metadata": {},
   "outputs": [
    {
     "data": {
      "text/html": [
       "<div>\n",
       "<style scoped>\n",
       "    .dataframe tbody tr th:only-of-type {\n",
       "        vertical-align: middle;\n",
       "    }\n",
       "\n",
       "    .dataframe tbody tr th {\n",
       "        vertical-align: top;\n",
       "    }\n",
       "\n",
       "    .dataframe thead th {\n",
       "        text-align: right;\n",
       "    }\n",
       "</style>\n",
       "<table border=\"1\" class=\"dataframe\">\n",
       "  <thead>\n",
       "    <tr style=\"text-align: right;\">\n",
       "      <th></th>\n",
       "      <th>RespondentID</th>\n",
       "      <th>Have you seen any of the 6 films in the Star Wars franchise?</th>\n",
       "      <th>Do you consider yourself to be a fan of the Star Wars film franchise?</th>\n",
       "      <th>Which of the following Star Wars films have you seen? Please select all that apply.</th>\n",
       "      <th>Unnamed: 4</th>\n",
       "      <th>Unnamed: 5</th>\n",
       "      <th>Unnamed: 6</th>\n",
       "      <th>Unnamed: 7</th>\n",
       "      <th>Unnamed: 8</th>\n",
       "      <th>Please rank the Star Wars films in order of preference with 1 being your favorite film in the franchise and 6 being your least favorite film.</th>\n",
       "      <th>...</th>\n",
       "      <th>Unnamed: 28</th>\n",
       "      <th>Which character shot first?</th>\n",
       "      <th>Are you familiar with the Expanded Universe?</th>\n",
       "      <th>Do you consider yourself to be a fan of the Expanded Universe?æ</th>\n",
       "      <th>Do you consider yourself to be a fan of the Star Trek franchise?</th>\n",
       "      <th>Gender</th>\n",
       "      <th>Age</th>\n",
       "      <th>Household Income</th>\n",
       "      <th>Education</th>\n",
       "      <th>Location (Census Region)</th>\n",
       "    </tr>\n",
       "  </thead>\n",
       "  <tbody>\n",
       "    <tr>\n",
       "      <th>1</th>\n",
       "      <td>3.292880e+09</td>\n",
       "      <td>Yes</td>\n",
       "      <td>Yes</td>\n",
       "      <td>Star Wars: Episode I  The Phantom Menace</td>\n",
       "      <td>Star Wars: Episode II  Attack of the Clones</td>\n",
       "      <td>Star Wars: Episode III  Revenge of the Sith</td>\n",
       "      <td>Star Wars: Episode IV  A New Hope</td>\n",
       "      <td>Star Wars: Episode V The Empire Strikes Back</td>\n",
       "      <td>Star Wars: Episode VI Return of the Jedi</td>\n",
       "      <td>3</td>\n",
       "      <td>...</td>\n",
       "      <td>Very favorably</td>\n",
       "      <td>I don't understand this question</td>\n",
       "      <td>Yes</td>\n",
       "      <td>No</td>\n",
       "      <td>No</td>\n",
       "      <td>Male</td>\n",
       "      <td>18-29</td>\n",
       "      <td>NaN</td>\n",
       "      <td>High school degree</td>\n",
       "      <td>South Atlantic</td>\n",
       "    </tr>\n",
       "    <tr>\n",
       "      <th>2</th>\n",
       "      <td>3.292880e+09</td>\n",
       "      <td>No</td>\n",
       "      <td>NaN</td>\n",
       "      <td>NaN</td>\n",
       "      <td>NaN</td>\n",
       "      <td>NaN</td>\n",
       "      <td>NaN</td>\n",
       "      <td>NaN</td>\n",
       "      <td>NaN</td>\n",
       "      <td>NaN</td>\n",
       "      <td>...</td>\n",
       "      <td>NaN</td>\n",
       "      <td>NaN</td>\n",
       "      <td>NaN</td>\n",
       "      <td>NaN</td>\n",
       "      <td>Yes</td>\n",
       "      <td>Male</td>\n",
       "      <td>18-29</td>\n",
       "      <td>$0 - $24,999</td>\n",
       "      <td>Bachelor degree</td>\n",
       "      <td>West South Central</td>\n",
       "    </tr>\n",
       "    <tr>\n",
       "      <th>3</th>\n",
       "      <td>3.292765e+09</td>\n",
       "      <td>Yes</td>\n",
       "      <td>No</td>\n",
       "      <td>Star Wars: Episode I  The Phantom Menace</td>\n",
       "      <td>Star Wars: Episode II  Attack of the Clones</td>\n",
       "      <td>Star Wars: Episode III  Revenge of the Sith</td>\n",
       "      <td>NaN</td>\n",
       "      <td>NaN</td>\n",
       "      <td>NaN</td>\n",
       "      <td>1</td>\n",
       "      <td>...</td>\n",
       "      <td>Unfamiliar (N/A)</td>\n",
       "      <td>I don't understand this question</td>\n",
       "      <td>No</td>\n",
       "      <td>NaN</td>\n",
       "      <td>No</td>\n",
       "      <td>Male</td>\n",
       "      <td>18-29</td>\n",
       "      <td>$0 - $24,999</td>\n",
       "      <td>High school degree</td>\n",
       "      <td>West North Central</td>\n",
       "    </tr>\n",
       "    <tr>\n",
       "      <th>4</th>\n",
       "      <td>3.292763e+09</td>\n",
       "      <td>Yes</td>\n",
       "      <td>Yes</td>\n",
       "      <td>Star Wars: Episode I  The Phantom Menace</td>\n",
       "      <td>Star Wars: Episode II  Attack of the Clones</td>\n",
       "      <td>Star Wars: Episode III  Revenge of the Sith</td>\n",
       "      <td>Star Wars: Episode IV  A New Hope</td>\n",
       "      <td>Star Wars: Episode V The Empire Strikes Back</td>\n",
       "      <td>Star Wars: Episode VI Return of the Jedi</td>\n",
       "      <td>5</td>\n",
       "      <td>...</td>\n",
       "      <td>Very favorably</td>\n",
       "      <td>I don't understand this question</td>\n",
       "      <td>No</td>\n",
       "      <td>NaN</td>\n",
       "      <td>Yes</td>\n",
       "      <td>Male</td>\n",
       "      <td>18-29</td>\n",
       "      <td>$100,000 - $149,999</td>\n",
       "      <td>Some college or Associate degree</td>\n",
       "      <td>West North Central</td>\n",
       "    </tr>\n",
       "    <tr>\n",
       "      <th>5</th>\n",
       "      <td>3.292731e+09</td>\n",
       "      <td>Yes</td>\n",
       "      <td>Yes</td>\n",
       "      <td>Star Wars: Episode I  The Phantom Menace</td>\n",
       "      <td>Star Wars: Episode II  Attack of the Clones</td>\n",
       "      <td>Star Wars: Episode III  Revenge of the Sith</td>\n",
       "      <td>Star Wars: Episode IV  A New Hope</td>\n",
       "      <td>Star Wars: Episode V The Empire Strikes Back</td>\n",
       "      <td>Star Wars: Episode VI Return of the Jedi</td>\n",
       "      <td>5</td>\n",
       "      <td>...</td>\n",
       "      <td>Somewhat favorably</td>\n",
       "      <td>Greedo</td>\n",
       "      <td>Yes</td>\n",
       "      <td>No</td>\n",
       "      <td>No</td>\n",
       "      <td>Male</td>\n",
       "      <td>18-29</td>\n",
       "      <td>$100,000 - $149,999</td>\n",
       "      <td>Some college or Associate degree</td>\n",
       "      <td>West North Central</td>\n",
       "    </tr>\n",
       "  </tbody>\n",
       "</table>\n",
       "<p>5 rows × 38 columns</p>\n",
       "</div>"
      ],
      "text/plain": [
       "   RespondentID Have you seen any of the 6 films in the Star Wars franchise?  \\\n",
       "1  3.292880e+09                                                Yes             \n",
       "2  3.292880e+09                                                 No             \n",
       "3  3.292765e+09                                                Yes             \n",
       "4  3.292763e+09                                                Yes             \n",
       "5  3.292731e+09                                                Yes             \n",
       "\n",
       "  Do you consider yourself to be a fan of the Star Wars film franchise?  \\\n",
       "1                                                Yes                      \n",
       "2                                                NaN                      \n",
       "3                                                 No                      \n",
       "4                                                Yes                      \n",
       "5                                                Yes                      \n",
       "\n",
       "  Which of the following Star Wars films have you seen? Please select all that apply.  \\\n",
       "1           Star Wars: Episode I  The Phantom Menace                                    \n",
       "2                                                NaN                                    \n",
       "3           Star Wars: Episode I  The Phantom Menace                                    \n",
       "4           Star Wars: Episode I  The Phantom Menace                                    \n",
       "5           Star Wars: Episode I  The Phantom Menace                                    \n",
       "\n",
       "                                    Unnamed: 4  \\\n",
       "1  Star Wars: Episode II  Attack of the Clones   \n",
       "2                                          NaN   \n",
       "3  Star Wars: Episode II  Attack of the Clones   \n",
       "4  Star Wars: Episode II  Attack of the Clones   \n",
       "5  Star Wars: Episode II  Attack of the Clones   \n",
       "\n",
       "                                    Unnamed: 5  \\\n",
       "1  Star Wars: Episode III  Revenge of the Sith   \n",
       "2                                          NaN   \n",
       "3  Star Wars: Episode III  Revenge of the Sith   \n",
       "4  Star Wars: Episode III  Revenge of the Sith   \n",
       "5  Star Wars: Episode III  Revenge of the Sith   \n",
       "\n",
       "                          Unnamed: 6  \\\n",
       "1  Star Wars: Episode IV  A New Hope   \n",
       "2                                NaN   \n",
       "3                                NaN   \n",
       "4  Star Wars: Episode IV  A New Hope   \n",
       "5  Star Wars: Episode IV  A New Hope   \n",
       "\n",
       "                                     Unnamed: 7  \\\n",
       "1  Star Wars: Episode V The Empire Strikes Back   \n",
       "2                                           NaN   \n",
       "3                                           NaN   \n",
       "4  Star Wars: Episode V The Empire Strikes Back   \n",
       "5  Star Wars: Episode V The Empire Strikes Back   \n",
       "\n",
       "                                 Unnamed: 8  \\\n",
       "1  Star Wars: Episode VI Return of the Jedi   \n",
       "2                                       NaN   \n",
       "3                                       NaN   \n",
       "4  Star Wars: Episode VI Return of the Jedi   \n",
       "5  Star Wars: Episode VI Return of the Jedi   \n",
       "\n",
       "  Please rank the Star Wars films in order of preference with 1 being your favorite film in the franchise and 6 being your least favorite film.  \\\n",
       "1                                                  3                                                                                              \n",
       "2                                                NaN                                                                                              \n",
       "3                                                  1                                                                                              \n",
       "4                                                  5                                                                                              \n",
       "5                                                  5                                                                                              \n",
       "\n",
       "   ...         Unnamed: 28       Which character shot first?  \\\n",
       "1  ...      Very favorably  I don't understand this question   \n",
       "2  ...                 NaN                               NaN   \n",
       "3  ...    Unfamiliar (N/A)  I don't understand this question   \n",
       "4  ...      Very favorably  I don't understand this question   \n",
       "5  ...  Somewhat favorably                            Greedo   \n",
       "\n",
       "  Are you familiar with the Expanded Universe?  \\\n",
       "1                                          Yes   \n",
       "2                                          NaN   \n",
       "3                                           No   \n",
       "4                                           No   \n",
       "5                                          Yes   \n",
       "\n",
       "  Do you consider yourself to be a fan of the Expanded Universe?æ  \\\n",
       "1                                                 No                 \n",
       "2                                                NaN                 \n",
       "3                                                NaN                 \n",
       "4                                                NaN                 \n",
       "5                                                 No                 \n",
       "\n",
       "  Do you consider yourself to be a fan of the Star Trek franchise? Gender  \\\n",
       "1                                                 No                 Male   \n",
       "2                                                Yes                 Male   \n",
       "3                                                 No                 Male   \n",
       "4                                                Yes                 Male   \n",
       "5                                                 No                 Male   \n",
       "\n",
       "     Age     Household Income                         Education  \\\n",
       "1  18-29                  NaN                High school degree   \n",
       "2  18-29         $0 - $24,999                   Bachelor degree   \n",
       "3  18-29         $0 - $24,999                High school degree   \n",
       "4  18-29  $100,000 - $149,999  Some college or Associate degree   \n",
       "5  18-29  $100,000 - $149,999  Some college or Associate degree   \n",
       "\n",
       "  Location (Census Region)  \n",
       "1           South Atlantic  \n",
       "2       West South Central  \n",
       "3       West North Central  \n",
       "4       West North Central  \n",
       "5       West North Central  \n",
       "\n",
       "[5 rows x 38 columns]"
      ]
     },
     "execution_count": 46,
     "metadata": {},
     "output_type": "execute_result"
    }
   ],
   "source": [
    "# Data Cleaning, Delete 1st row (indices start from 0)\n",
    "data=data.drop(data.index[0])\n",
    "data.head()"
   ]
  },
  {
   "cell_type": "code",
   "execution_count": 37,
   "id": "60965e84",
   "metadata": {},
   "outputs": [
    {
     "data": {
      "text/plain": [
       "Text(0.5, 1.0, 'Demographic')"
      ]
     },
     "execution_count": 37,
     "metadata": {},
     "output_type": "execute_result"
    },
    {
     "data": {
      "image/png": "[encoded data removed]",
      "text/plain": [
       "<Figure size 432x288 with 1 Axes>"
      ]
     },
     "metadata": {
      "needs_background": "dark"
     },
     "output_type": "display_data"
    }
   ],
   "source": [
    "# Demographic of the survey \n",
    "sb.histplot(data=data, x=\"Age\", y=\"Household Income\")\n",
    "plt.title(\"Demographic\")"
   ]
  },
  {
   "cell_type": "markdown",
   "id": "f8dd5a7f",
   "metadata": {},
   "source": [
    "Get the columns we need and Rename them"
   ]
  },
  {
   "cell_type": "code",
   "execution_count": 9,
   "id": "164a0887",
   "metadata": {},
   "outputs": [
    {
     "data": {
      "text/html": [
       "<div>\n",
       "<style scoped>\n",
       "    .dataframe tbody tr th:only-of-type {\n",
       "        vertical-align: middle;\n",
       "    }\n",
       "\n",
       "    .dataframe tbody tr th {\n",
       "        vertical-align: top;\n",
       "    }\n",
       "\n",
       "    .dataframe thead th {\n",
       "        text-align: right;\n",
       "    }\n",
       "</style>\n",
       "<table border=\"1\" class=\"dataframe\">\n",
       "  <thead>\n",
       "    <tr style=\"text-align: right;\">\n",
       "      <th></th>\n",
       "      <th>I</th>\n",
       "      <th>II</th>\n",
       "      <th>III</th>\n",
       "      <th>IV</th>\n",
       "      <th>V</th>\n",
       "      <th>VI</th>\n",
       "    </tr>\n",
       "  </thead>\n",
       "  <tbody>\n",
       "    <tr>\n",
       "      <th>0</th>\n",
       "      <td>Star Wars: Episode I  The Phantom Menace</td>\n",
       "      <td>Star Wars: Episode II  Attack of the Clones</td>\n",
       "      <td>Star Wars: Episode III  Revenge of the Sith</td>\n",
       "      <td>Star Wars: Episode IV  A New Hope</td>\n",
       "      <td>Star Wars: Episode V The Empire Strikes Back</td>\n",
       "      <td>Star Wars: Episode VI Return of the Jedi</td>\n",
       "    </tr>\n",
       "    <tr>\n",
       "      <th>1</th>\n",
       "      <td>Star Wars: Episode I  The Phantom Menace</td>\n",
       "      <td>Star Wars: Episode II  Attack of the Clones</td>\n",
       "      <td>Star Wars: Episode III  Revenge of the Sith</td>\n",
       "      <td>Star Wars: Episode IV  A New Hope</td>\n",
       "      <td>Star Wars: Episode V The Empire Strikes Back</td>\n",
       "      <td>Star Wars: Episode VI Return of the Jedi</td>\n",
       "    </tr>\n",
       "    <tr>\n",
       "      <th>2</th>\n",
       "      <td>NaN</td>\n",
       "      <td>NaN</td>\n",
       "      <td>NaN</td>\n",
       "      <td>NaN</td>\n",
       "      <td>NaN</td>\n",
       "      <td>NaN</td>\n",
       "    </tr>\n",
       "    <tr>\n",
       "      <th>3</th>\n",
       "      <td>Star Wars: Episode I  The Phantom Menace</td>\n",
       "      <td>Star Wars: Episode II  Attack of the Clones</td>\n",
       "      <td>Star Wars: Episode III  Revenge of the Sith</td>\n",
       "      <td>NaN</td>\n",
       "      <td>NaN</td>\n",
       "      <td>NaN</td>\n",
       "    </tr>\n",
       "    <tr>\n",
       "      <th>4</th>\n",
       "      <td>Star Wars: Episode I  The Phantom Menace</td>\n",
       "      <td>Star Wars: Episode II  Attack of the Clones</td>\n",
       "      <td>Star Wars: Episode III  Revenge of the Sith</td>\n",
       "      <td>Star Wars: Episode IV  A New Hope</td>\n",
       "      <td>Star Wars: Episode V The Empire Strikes Back</td>\n",
       "      <td>Star Wars: Episode VI Return of the Jedi</td>\n",
       "    </tr>\n",
       "  </tbody>\n",
       "</table>\n",
       "</div>"
      ],
      "text/plain": [
       "                                          I  \\\n",
       "0  Star Wars: Episode I  The Phantom Menace   \n",
       "1  Star Wars: Episode I  The Phantom Menace   \n",
       "2                                       NaN   \n",
       "3  Star Wars: Episode I  The Phantom Menace   \n",
       "4  Star Wars: Episode I  The Phantom Menace   \n",
       "\n",
       "                                            II  \\\n",
       "0  Star Wars: Episode II  Attack of the Clones   \n",
       "1  Star Wars: Episode II  Attack of the Clones   \n",
       "2                                          NaN   \n",
       "3  Star Wars: Episode II  Attack of the Clones   \n",
       "4  Star Wars: Episode II  Attack of the Clones   \n",
       "\n",
       "                                           III  \\\n",
       "0  Star Wars: Episode III  Revenge of the Sith   \n",
       "1  Star Wars: Episode III  Revenge of the Sith   \n",
       "2                                          NaN   \n",
       "3  Star Wars: Episode III  Revenge of the Sith   \n",
       "4  Star Wars: Episode III  Revenge of the Sith   \n",
       "\n",
       "                                  IV  \\\n",
       "0  Star Wars: Episode IV  A New Hope   \n",
       "1  Star Wars: Episode IV  A New Hope   \n",
       "2                                NaN   \n",
       "3                                NaN   \n",
       "4  Star Wars: Episode IV  A New Hope   \n",
       "\n",
       "                                              V  \\\n",
       "0  Star Wars: Episode V The Empire Strikes Back   \n",
       "1  Star Wars: Episode V The Empire Strikes Back   \n",
       "2                                           NaN   \n",
       "3                                           NaN   \n",
       "4  Star Wars: Episode V The Empire Strikes Back   \n",
       "\n",
       "                                         VI  \n",
       "0  Star Wars: Episode VI Return of the Jedi  \n",
       "1  Star Wars: Episode VI Return of the Jedi  \n",
       "2                                       NaN  \n",
       "3                                       NaN  \n",
       "4  Star Wars: Episode VI Return of the Jedi  "
      ]
     },
     "execution_count": 9,
     "metadata": {},
     "output_type": "execute_result"
    }
   ],
   "source": [
    "\n",
    "datafilms = data[['Which of the following Star Wars films have you seen? Please select all that apply.', 'Unnamed: 4', 'Unnamed: 5', 'Unnamed: 6','Unnamed: 7', 'Unnamed: 8',]]\n",
    "datafilms.columns = ['I', 'II', 'III', 'IV', 'V', 'VI']\n",
    "datafilms.head()"
   ]
  },
  {
   "cell_type": "code",
   "execution_count": 10,
   "id": "7a53c3c3",
   "metadata": {},
   "outputs": [
    {
     "data": {
      "text/plain": [
       "1187"
      ]
     },
     "execution_count": 10,
     "metadata": {},
     "output_type": "execute_result"
    }
   ],
   "source": [
    "datafilms.shape[0]"
   ]
  },
  {
   "cell_type": "markdown",
   "id": "5f0356a5",
   "metadata": {},
   "source": [
    "Check for nulls"
   ]
  },
  {
   "cell_type": "code",
   "execution_count": 11,
   "id": "c208815a",
   "metadata": {},
   "outputs": [
    {
     "data": {
      "text/plain": [
       "I      674\n",
       "II     572\n",
       "III    551\n",
       "IV     608\n",
       "V      759\n",
       "VI     739\n",
       "dtype: int64"
      ]
     },
     "execution_count": 11,
     "metadata": {},
     "output_type": "execute_result"
    }
   ],
   "source": [
    "datafilms.notnull().sum()"
   ]
  },
  {
   "cell_type": "markdown",
   "id": "63a5ec2e",
   "metadata": {},
   "source": [
    "There are many nulls, but a concat will ignore them and we get all films in one column"
   ]
  },
  {
   "cell_type": "code",
   "execution_count": 12,
   "id": "b0e3d535",
   "metadata": {
    "scrolled": true
   },
   "outputs": [
    {
     "data": {
      "text/html": [
       "<div>\n",
       "<style scoped>\n",
       "    .dataframe tbody tr th:only-of-type {\n",
       "        vertical-align: middle;\n",
       "    }\n",
       "\n",
       "    .dataframe tbody tr th {\n",
       "        vertical-align: top;\n",
       "    }\n",
       "\n",
       "    .dataframe thead th {\n",
       "        text-align: right;\n",
       "    }\n",
       "</style>\n",
       "<table border=\"1\" class=\"dataframe\">\n",
       "  <thead>\n",
       "    <tr style=\"text-align: right;\">\n",
       "      <th></th>\n",
       "      <th>Movies</th>\n",
       "    </tr>\n",
       "  </thead>\n",
       "  <tbody>\n",
       "    <tr>\n",
       "      <th>0</th>\n",
       "      <td>Star Wars: Episode I  The Phantom Menace</td>\n",
       "    </tr>\n",
       "    <tr>\n",
       "      <th>1</th>\n",
       "      <td>Star Wars: Episode I  The Phantom Menace</td>\n",
       "    </tr>\n",
       "    <tr>\n",
       "      <th>2</th>\n",
       "      <td>NaN</td>\n",
       "    </tr>\n",
       "    <tr>\n",
       "      <th>3</th>\n",
       "      <td>Star Wars: Episode I  The Phantom Menace</td>\n",
       "    </tr>\n",
       "    <tr>\n",
       "      <th>4</th>\n",
       "      <td>Star Wars: Episode I  The Phantom Menace</td>\n",
       "    </tr>\n",
       "    <tr>\n",
       "      <th>...</th>\n",
       "      <td>...</td>\n",
       "    </tr>\n",
       "    <tr>\n",
       "      <th>1182</th>\n",
       "      <td>Star Wars: Episode VI Return of the Jedi</td>\n",
       "    </tr>\n",
       "    <tr>\n",
       "      <th>1183</th>\n",
       "      <td>Star Wars: Episode VI Return of the Jedi</td>\n",
       "    </tr>\n",
       "    <tr>\n",
       "      <th>1184</th>\n",
       "      <td>NaN</td>\n",
       "    </tr>\n",
       "    <tr>\n",
       "      <th>1185</th>\n",
       "      <td>Star Wars: Episode VI Return of the Jedi</td>\n",
       "    </tr>\n",
       "    <tr>\n",
       "      <th>1186</th>\n",
       "      <td>Star Wars: Episode VI Return of the Jedi</td>\n",
       "    </tr>\n",
       "  </tbody>\n",
       "</table>\n",
       "<p>7122 rows × 1 columns</p>\n",
       "</div>"
      ],
      "text/plain": [
       "                                        Movies\n",
       "0     Star Wars: Episode I  The Phantom Menace\n",
       "1     Star Wars: Episode I  The Phantom Menace\n",
       "2                                          NaN\n",
       "3     Star Wars: Episode I  The Phantom Menace\n",
       "4     Star Wars: Episode I  The Phantom Menace\n",
       "...                                        ...\n",
       "1182  Star Wars: Episode VI Return of the Jedi\n",
       "1183  Star Wars: Episode VI Return of the Jedi\n",
       "1184                                       NaN\n",
       "1185  Star Wars: Episode VI Return of the Jedi\n",
       "1186  Star Wars: Episode VI Return of the Jedi\n",
       "\n",
       "[7122 rows x 1 columns]"
      ]
     },
     "execution_count": 12,
     "metadata": {},
     "output_type": "execute_result"
    }
   ],
   "source": [
    "\n",
    "dfallmovies = pd.concat([datafilms['I'], datafilms['II'], datafilms['III'], datafilms['IV'], datafilms['V'], datafilms['VI']])\n",
    "dfplot = pd.DataFrame(dfallmovies,columns=['Movies'])\n",
    "dfplot"
   ]
  },
  {
   "cell_type": "code",
   "execution_count": 13,
   "id": "c0555d80",
   "metadata": {},
   "outputs": [],
   "source": [
    "star6 = dfplot.dropna()"
   ]
  },
  {
   "cell_type": "code",
   "execution_count": 14,
   "id": "95cb860c",
   "metadata": {
    "scrolled": true
   },
   "outputs": [
    {
     "data": {
      "text/plain": [
       "Movies\n",
       "Star Wars: Episode I  The Phantom Menace        674\n",
       "Star Wars: Episode II  Attack of the Clones     572\n",
       "Star Wars: Episode III  Revenge of the Sith     551\n",
       "Star Wars: Episode IV  A New Hope               608\n",
       "Star Wars: Episode V The Empire Strikes Back    759\n",
       "Star Wars: Episode VI Return of the Jedi        739\n",
       "dtype: int64"
      ]
     },
     "execution_count": 14,
     "metadata": {},
     "output_type": "execute_result"
    }
   ],
   "source": [
    "total_movies = dfplot.groupby(['Movies']).size()\n",
    "total_movies"
   ]
  },
  {
   "cell_type": "code",
   "execution_count": 16,
   "id": "df463a81",
   "metadata": {},
   "outputs": [],
   "source": [
    "total_movies.to_csv('out.csv')"
   ]
  },
  {
   "cell_type": "markdown",
   "id": "2476a58e",
   "metadata": {},
   "source": [
    "Star Wars Episode V seems to be the most popular with 759 mentions"
   ]
  },
  {
   "cell_type": "markdown",
   "id": "3fde754a",
   "metadata": {},
   "source": [
    "Visualization of this count"
   ]
  },
  {
   "cell_type": "code",
   "execution_count": 48,
   "id": "0c59b980",
   "metadata": {
    "scrolled": true
   },
   "outputs": [
    {
     "data": {
      "text/plain": [
       "Text(0.5, 1.0, 'Which movie is most selected?')"
      ]
     },
     "execution_count": 48,
     "metadata": {},
     "output_type": "execute_result"
    },
    {
     "data": {
      "image/png": "[encoded data removed]",
      "text/plain": [
       "<Figure size 432x288 with 1 Axes>"
      ]
     },
     "metadata": {},
     "output_type": "display_data"
    }
   ],
   "source": [
    "\n",
    "sb.countplot(y='Movies', data = dfplot, orient = 'v')\n",
    "plt.title(\"Which movie is most selected?\")\n"
   ]
  },
  {
   "cell_type": "code",
   "execution_count": 18,
   "id": "6bddc963",
   "metadata": {},
   "outputs": [],
   "source": [
    "star6.to_csv('StarWars6.csv', columns=['Movies'], index=False)"
   ]
  },
  {
   "cell_type": "markdown",
   "id": "61414ce8",
   "metadata": {},
   "source": [
    "Second Dataset"
   ]
  },
  {
   "cell_type": "markdown",
   "id": "5a174183",
   "metadata": {},
   "source": [
    "Get dataset"
   ]
  },
  {
   "cell_type": "code",
   "execution_count": 61,
   "id": "ddcec4eb",
   "metadata": {
    "scrolled": true
   },
   "outputs": [
    {
     "data": {
      "text/html": [
       "<div>\n",
       "<style scoped>\n",
       "    .dataframe tbody tr th:only-of-type {\n",
       "        vertical-align: middle;\n",
       "    }\n",
       "\n",
       "    .dataframe tbody tr th {\n",
       "        vertical-align: top;\n",
       "    }\n",
       "\n",
       "    .dataframe thead th {\n",
       "        text-align: right;\n",
       "    }\n",
       "</style>\n",
       "<table border=\"1\" class=\"dataframe\">\n",
       "  <thead>\n",
       "    <tr style=\"text-align: right;\">\n",
       "      <th></th>\n",
       "      <th>Unnamed: 0</th>\n",
       "      <th>Title</th>\n",
       "      <th>Movie Info</th>\n",
       "      <th>Distributor</th>\n",
       "      <th>Release Date</th>\n",
       "      <th>Domestic Sales (in $)</th>\n",
       "      <th>International Sales (in $)</th>\n",
       "      <th>World Sales (in $)</th>\n",
       "      <th>Genre</th>\n",
       "      <th>Movie Runtime</th>\n",
       "      <th>License</th>\n",
       "    </tr>\n",
       "  </thead>\n",
       "  <tbody>\n",
       "    <tr>\n",
       "      <th>0</th>\n",
       "      <td>0</td>\n",
       "      <td>Star Wars: Episode VII - The Force Awakens (2015)</td>\n",
       "      <td>As a new threat to the galaxy rises, Rey, a de...</td>\n",
       "      <td>Walt Disney Studios Motion Pictures</td>\n",
       "      <td>16-Dec-15</td>\n",
       "      <td>936662225</td>\n",
       "      <td>1132859475</td>\n",
       "      <td>2069521700</td>\n",
       "      <td>['Action', 'Adventure', 'Sci-Fi']</td>\n",
       "      <td>2 hr 18 min</td>\n",
       "      <td>PG-13</td>\n",
       "    </tr>\n",
       "    <tr>\n",
       "      <th>1</th>\n",
       "      <td>1</td>\n",
       "      <td>Avengers: Endgame (2019)</td>\n",
       "      <td>After the devastating events of Avengers: Infi...</td>\n",
       "      <td>Walt Disney Studios Motion Pictures</td>\n",
       "      <td>24-Apr-19</td>\n",
       "      <td>858373000</td>\n",
       "      <td>1939128328</td>\n",
       "      <td>2797501328</td>\n",
       "      <td>['Action', 'Adventure', 'Drama', 'Sci-Fi']</td>\n",
       "      <td>3 hr 1 min</td>\n",
       "      <td>PG-13</td>\n",
       "    </tr>\n",
       "    <tr>\n",
       "      <th>2</th>\n",
       "      <td>2</td>\n",
       "      <td>Avatar (2009)</td>\n",
       "      <td>A paraplegic Marine dispatched to the moon Pan...</td>\n",
       "      <td>Twentieth Century Fox</td>\n",
       "      <td>16-Dec-09</td>\n",
       "      <td>760507625</td>\n",
       "      <td>2086738578</td>\n",
       "      <td>2847246203</td>\n",
       "      <td>['Action', 'Adventure', 'Fantasy', 'Sci-Fi']</td>\n",
       "      <td>2 hr 42 min</td>\n",
       "      <td>PG-13</td>\n",
       "    </tr>\n",
       "    <tr>\n",
       "      <th>3</th>\n",
       "      <td>3</td>\n",
       "      <td>Black Panther (2018)</td>\n",
       "      <td>T'Challa, heir to the hidden but advanced king...</td>\n",
       "      <td>Walt Disney Studios Motion Pictures</td>\n",
       "      <td>NaN</td>\n",
       "      <td>700426566</td>\n",
       "      <td>647171407</td>\n",
       "      <td>1347597973</td>\n",
       "      <td>['Action', 'Adventure', 'Sci-Fi']</td>\n",
       "      <td>2 hr 14 min</td>\n",
       "      <td>NaN</td>\n",
       "    </tr>\n",
       "    <tr>\n",
       "      <th>4</th>\n",
       "      <td>4</td>\n",
       "      <td>Avengers: Infinity War (2018)</td>\n",
       "      <td>The Avengers and their allies must be willing ...</td>\n",
       "      <td>Walt Disney Studios Motion Pictures</td>\n",
       "      <td>NaN</td>\n",
       "      <td>678815482</td>\n",
       "      <td>1369544272</td>\n",
       "      <td>2048359754</td>\n",
       "      <td>['Action', 'Adventure', 'Sci-Fi']</td>\n",
       "      <td>2 hr 29 min</td>\n",
       "      <td>NaN</td>\n",
       "    </tr>\n",
       "  </tbody>\n",
       "</table>\n",
       "</div>"
      ],
      "text/plain": [
       "   Unnamed: 0                                              Title  \\\n",
       "0           0  Star Wars: Episode VII - The Force Awakens (2015)   \n",
       "1           1                           Avengers: Endgame (2019)   \n",
       "2           2                                      Avatar (2009)   \n",
       "3           3                               Black Panther (2018)   \n",
       "4           4                      Avengers: Infinity War (2018)   \n",
       "\n",
       "                                          Movie Info  \\\n",
       "0  As a new threat to the galaxy rises, Rey, a de...   \n",
       "1  After the devastating events of Avengers: Infi...   \n",
       "2  A paraplegic Marine dispatched to the moon Pan...   \n",
       "3  T'Challa, heir to the hidden but advanced king...   \n",
       "4  The Avengers and their allies must be willing ...   \n",
       "\n",
       "                           Distributor Release Date  Domestic Sales (in $)  \\\n",
       "0  Walt Disney Studios Motion Pictures    16-Dec-15              936662225   \n",
       "1  Walt Disney Studios Motion Pictures    24-Apr-19              858373000   \n",
       "2                Twentieth Century Fox    16-Dec-09              760507625   \n",
       "3  Walt Disney Studios Motion Pictures          NaN              700426566   \n",
       "4  Walt Disney Studios Motion Pictures          NaN              678815482   \n",
       "\n",
       "   International Sales (in $)  World Sales (in $)  \\\n",
       "0                  1132859475          2069521700   \n",
       "1                  1939128328          2797501328   \n",
       "2                  2086738578          2847246203   \n",
       "3                   647171407          1347597973   \n",
       "4                  1369544272          2048359754   \n",
       "\n",
       "                                          Genre Movie Runtime License  \n",
       "0             ['Action', 'Adventure', 'Sci-Fi']   2 hr 18 min   PG-13  \n",
       "1    ['Action', 'Adventure', 'Drama', 'Sci-Fi']    3 hr 1 min   PG-13  \n",
       "2  ['Action', 'Adventure', 'Fantasy', 'Sci-Fi']   2 hr 42 min   PG-13  \n",
       "3             ['Action', 'Adventure', 'Sci-Fi']   2 hr 14 min     NaN  \n",
       "4             ['Action', 'Adventure', 'Sci-Fi']   2 hr 29 min     NaN  "
      ]
     },
     "execution_count": 61,
     "metadata": {},
     "output_type": "execute_result"
    }
   ],
   "source": [
    "data2 = pd.read_csv('top 1000 movies.csv', encoding='latin')\n",
    "data2.head()"
   ]
  },
  {
   "cell_type": "code",
   "execution_count": 66,
   "id": "77a42abd",
   "metadata": {},
   "outputs": [
    {
     "name": "stdout",
     "output_type": "stream",
     "text": [
      "<class 'pandas.core.frame.DataFrame'>\n"
     ]
    }
   ],
   "source": [
    "print(type(data2))"
   ]
  },
  {
   "cell_type": "code",
   "execution_count": 63,
   "id": "5e1f6b92",
   "metadata": {},
   "outputs": [
    {
     "data": {
      "text/plain": [
       "918"
      ]
     },
     "execution_count": 63,
     "metadata": {},
     "output_type": "execute_result"
    }
   ],
   "source": [
    "len(data2)"
   ]
  },
  {
   "cell_type": "code",
   "execution_count": 64,
   "id": "13849026",
   "metadata": {},
   "outputs": [
    {
     "data": {
      "text/plain": [
       "(918, 11)"
      ]
     },
     "execution_count": 64,
     "metadata": {},
     "output_type": "execute_result"
    }
   ],
   "source": [
    "data2.shape"
   ]
  },
  {
   "cell_type": "code",
   "execution_count": 65,
   "id": "373b4de2",
   "metadata": {},
   "outputs": [
    {
     "data": {
      "text/plain": [
       "744"
      ]
     },
     "execution_count": 65,
     "metadata": {},
     "output_type": "execute_result"
    }
   ],
   "source": [
    "datana2 = data2.dropna()\n",
    "len(datana2)"
   ]
  },
  {
   "cell_type": "code",
   "execution_count": 67,
   "id": "23323b14",
   "metadata": {},
   "outputs": [
    {
     "data": {
      "text/html": [
       "<div>\n",
       "<style scoped>\n",
       "    .dataframe tbody tr th:only-of-type {\n",
       "        vertical-align: middle;\n",
       "    }\n",
       "\n",
       "    .dataframe tbody tr th {\n",
       "        vertical-align: top;\n",
       "    }\n",
       "\n",
       "    .dataframe thead th {\n",
       "        text-align: right;\n",
       "    }\n",
       "</style>\n",
       "<table border=\"1\" class=\"dataframe\">\n",
       "  <thead>\n",
       "    <tr style=\"text-align: right;\">\n",
       "      <th></th>\n",
       "      <th>Domestic Sales (in $)</th>\n",
       "      <th>International Sales (in $)</th>\n",
       "      <th>World Sales (in $)</th>\n",
       "    </tr>\n",
       "  </thead>\n",
       "  <tbody>\n",
       "    <tr>\n",
       "      <th>Domestic Sales (in $)</th>\n",
       "      <td>1.000000</td>\n",
       "      <td>0.797462</td>\n",
       "      <td>0.904564</td>\n",
       "    </tr>\n",
       "    <tr>\n",
       "      <th>International Sales (in $)</th>\n",
       "      <td>0.797462</td>\n",
       "      <td>1.000000</td>\n",
       "      <td>0.976998</td>\n",
       "    </tr>\n",
       "    <tr>\n",
       "      <th>World Sales (in $)</th>\n",
       "      <td>0.904564</td>\n",
       "      <td>0.976998</td>\n",
       "      <td>1.000000</td>\n",
       "    </tr>\n",
       "  </tbody>\n",
       "</table>\n",
       "</div>"
      ],
      "text/plain": [
       "                            Domestic Sales (in $)  International Sales (in $)  \\\n",
       "Domestic Sales (in $)                    1.000000                    0.797462   \n",
       "International Sales (in $)               0.797462                    1.000000   \n",
       "World Sales (in $)                       0.904564                    0.976998   \n",
       "\n",
       "                            World Sales (in $)  \n",
       "Domestic Sales (in $)                 0.904564  \n",
       "International Sales (in $)            0.976998  \n",
       "World Sales (in $)                    1.000000  "
      ]
     },
     "execution_count": 67,
     "metadata": {},
     "output_type": "execute_result"
    }
   ],
   "source": [
    "del data2['Unnamed: 0']     # Data Cleaning, Delete 1st column (contains indices) \n",
    "data2.corr().abs()"
   ]
  },
  {
   "cell_type": "markdown",
   "id": "832a1982",
   "metadata": {},
   "source": [
    "Get rows that have our movies"
   ]
  },
  {
   "cell_type": "code",
   "execution_count": 52,
   "id": "726ab38b",
   "metadata": {},
   "outputs": [
    {
     "data": {
      "text/html": [
       "<div>\n",
       "<style scoped>\n",
       "    .dataframe tbody tr th:only-of-type {\n",
       "        vertical-align: middle;\n",
       "    }\n",
       "\n",
       "    .dataframe tbody tr th {\n",
       "        vertical-align: top;\n",
       "    }\n",
       "\n",
       "    .dataframe thead th {\n",
       "        text-align: right;\n",
       "    }\n",
       "</style>\n",
       "<table border=\"1\" class=\"dataframe\">\n",
       "  <thead>\n",
       "    <tr style=\"text-align: right;\">\n",
       "      <th></th>\n",
       "      <th>Unnamed: 0</th>\n",
       "      <th>Title</th>\n",
       "      <th>Movie Info</th>\n",
       "      <th>Distributor</th>\n",
       "      <th>Release Date</th>\n",
       "      <th>Domestic Sales (in $)</th>\n",
       "      <th>International Sales (in $)</th>\n",
       "      <th>World Sales (in $)</th>\n",
       "      <th>Genre</th>\n",
       "      <th>Movie Runtime</th>\n",
       "      <th>License</th>\n",
       "    </tr>\n",
       "  </thead>\n",
       "  <tbody>\n",
       "    <tr>\n",
       "      <th>0</th>\n",
       "      <td>0</td>\n",
       "      <td>Star Wars: Episode VII - The Force Awakens (2015)</td>\n",
       "      <td>As a new threat to the galaxy rises, Rey, a de...</td>\n",
       "      <td>Walt Disney Studios Motion Pictures</td>\n",
       "      <td>16-Dec-15</td>\n",
       "      <td>936662225</td>\n",
       "      <td>1132859475</td>\n",
       "      <td>2069521700</td>\n",
       "      <td>['Action', 'Adventure', 'Sci-Fi']</td>\n",
       "      <td>2 hr 18 min</td>\n",
       "      <td>PG-13</td>\n",
       "    </tr>\n",
       "    <tr>\n",
       "      <th>9</th>\n",
       "      <td>9</td>\n",
       "      <td>Star Wars: Episode VIII - The Last Jedi (2017)</td>\n",
       "      <td>The Star Wars saga continues as new heroes and...</td>\n",
       "      <td>Walt Disney Studios Motion Pictures</td>\n",
       "      <td>13-Dec-17</td>\n",
       "      <td>620181382</td>\n",
       "      <td>712517448</td>\n",
       "      <td>1332698830</td>\n",
       "      <td>['Action', 'Adventure', 'Fantasy', 'Sci-Fi']</td>\n",
       "      <td>2 hr 32 min</td>\n",
       "      <td>PG-13</td>\n",
       "    </tr>\n",
       "    <tr>\n",
       "      <th>13</th>\n",
       "      <td>13</td>\n",
       "      <td>Rogue One: A Star Wars Story (2016)</td>\n",
       "      <td>In a time of conflict, a group of unlikely her...</td>\n",
       "      <td>Walt Disney Studios Motion Pictures</td>\n",
       "      <td>14-Dec-16</td>\n",
       "      <td>532177324</td>\n",
       "      <td>523880396</td>\n",
       "      <td>1056057720</td>\n",
       "      <td>['Action', 'Adventure', 'Sci-Fi']</td>\n",
       "      <td>2 hr 13 min</td>\n",
       "      <td>PG-13</td>\n",
       "    </tr>\n",
       "    <tr>\n",
       "      <th>14</th>\n",
       "      <td>14</td>\n",
       "      <td>Star Wars: Episode IX - The Rise of Skywalker ...</td>\n",
       "      <td>In the riveting conclusion of the landmark Sky...</td>\n",
       "      <td>Walt Disney Studios Motion Pictures</td>\n",
       "      <td>18-Dec-19</td>\n",
       "      <td>515202542</td>\n",
       "      <td>558946737</td>\n",
       "      <td>1074149279</td>\n",
       "      <td>['Action', 'Adventure', 'Fantasy', 'Sci-Fi']</td>\n",
       "      <td>2 hr 21 min</td>\n",
       "      <td>PG-13</td>\n",
       "    </tr>\n",
       "    <tr>\n",
       "      <th>18</th>\n",
       "      <td>18</td>\n",
       "      <td>Star Wars: Episode I - The Phantom Menace (1999)</td>\n",
       "      <td>Two Jedi escape a hostile blockade to find all...</td>\n",
       "      <td>Twentieth Century Fox</td>\n",
       "      <td>19-May-99</td>\n",
       "      <td>474544677</td>\n",
       "      <td>552538030</td>\n",
       "      <td>1027082707</td>\n",
       "      <td>['Action', 'Adventure', 'Fantasy', 'Sci-Fi']</td>\n",
       "      <td>2 hr 16 min</td>\n",
       "      <td>PG</td>\n",
       "    </tr>\n",
       "  </tbody>\n",
       "</table>\n",
       "</div>"
      ],
      "text/plain": [
       "    Unnamed: 0                                              Title  \\\n",
       "0            0  Star Wars: Episode VII - The Force Awakens (2015)   \n",
       "9            9     Star Wars: Episode VIII - The Last Jedi (2017)   \n",
       "13          13                Rogue One: A Star Wars Story (2016)   \n",
       "14          14  Star Wars: Episode IX - The Rise of Skywalker ...   \n",
       "18          18   Star Wars: Episode I - The Phantom Menace (1999)   \n",
       "\n",
       "                                           Movie Info  \\\n",
       "0   As a new threat to the galaxy rises, Rey, a de...   \n",
       "9   The Star Wars saga continues as new heroes and...   \n",
       "13  In a time of conflict, a group of unlikely her...   \n",
       "14  In the riveting conclusion of the landmark Sky...   \n",
       "18  Two Jedi escape a hostile blockade to find all...   \n",
       "\n",
       "                            Distributor Release Date  Domestic Sales (in $)  \\\n",
       "0   Walt Disney Studios Motion Pictures    16-Dec-15              936662225   \n",
       "9   Walt Disney Studios Motion Pictures    13-Dec-17              620181382   \n",
       "13  Walt Disney Studios Motion Pictures    14-Dec-16              532177324   \n",
       "14  Walt Disney Studios Motion Pictures    18-Dec-19              515202542   \n",
       "18                Twentieth Century Fox    19-May-99              474544677   \n",
       "\n",
       "    International Sales (in $)  World Sales (in $)  \\\n",
       "0                   1132859475          2069521700   \n",
       "9                    712517448          1332698830   \n",
       "13                   523880396          1056057720   \n",
       "14                   558946737          1074149279   \n",
       "18                   552538030          1027082707   \n",
       "\n",
       "                                           Genre Movie Runtime License  \n",
       "0              ['Action', 'Adventure', 'Sci-Fi']   2 hr 18 min   PG-13  \n",
       "9   ['Action', 'Adventure', 'Fantasy', 'Sci-Fi']   2 hr 32 min   PG-13  \n",
       "13             ['Action', 'Adventure', 'Sci-Fi']   2 hr 13 min   PG-13  \n",
       "14  ['Action', 'Adventure', 'Fantasy', 'Sci-Fi']   2 hr 21 min   PG-13  \n",
       "18  ['Action', 'Adventure', 'Fantasy', 'Sci-Fi']   2 hr 16 min      PG  "
      ]
     },
     "execution_count": 52,
     "metadata": {},
     "output_type": "execute_result"
    }
   ],
   "source": [
    "starwars = data2[data2['Title'].str.contains('Star Wars')]\n",
    "starwars.head()"
   ]
  },
  {
   "cell_type": "code",
   "execution_count": 26,
   "id": "6c1d2e43",
   "metadata": {},
   "outputs": [
    {
     "name": "stdout",
     "output_type": "stream",
     "text": [
      "['Unnamed: 0' 'Title' 'Movie Info' 'Distributor' 'Release Date'\n",
      " 'Domestic Sales (in $)' 'International Sales (in $)' 'World Sales (in $)'\n",
      " 'Genre' 'Movie Runtime' 'License']\n"
     ]
    }
   ],
   "source": [
    "print(starwars.columns.values)"
   ]
  },
  {
   "cell_type": "markdown",
   "id": "cec32bc8",
   "metadata": {},
   "source": [
    "Let's get only the 6 movies we need"
   ]
  },
  {
   "cell_type": "code",
   "execution_count": 27,
   "id": "761fb388",
   "metadata": {},
   "outputs": [
    {
     "data": {
      "text/html": [
       "<div>\n",
       "<style scoped>\n",
       "    .dataframe tbody tr th:only-of-type {\n",
       "        vertical-align: middle;\n",
       "    }\n",
       "\n",
       "    .dataframe tbody tr th {\n",
       "        vertical-align: top;\n",
       "    }\n",
       "\n",
       "    .dataframe thead th {\n",
       "        text-align: right;\n",
       "    }\n",
       "</style>\n",
       "<table border=\"1\" class=\"dataframe\">\n",
       "  <thead>\n",
       "    <tr style=\"text-align: right;\">\n",
       "      <th></th>\n",
       "      <th>Unnamed: 0</th>\n",
       "      <th>Title</th>\n",
       "      <th>Movie Info</th>\n",
       "      <th>Distributor</th>\n",
       "      <th>Release Date</th>\n",
       "      <th>Domestic Sales (in $)</th>\n",
       "      <th>International Sales (in $)</th>\n",
       "      <th>World Sales (in $)</th>\n",
       "      <th>Genre</th>\n",
       "      <th>Movie Runtime</th>\n",
       "      <th>License</th>\n",
       "    </tr>\n",
       "  </thead>\n",
       "  <tbody>\n",
       "    <tr>\n",
       "      <th>18</th>\n",
       "      <td>18</td>\n",
       "      <td>Star Wars: Episode I - The Phantom Menace (1999)</td>\n",
       "      <td>Two Jedi escape a hostile blockade to find all...</td>\n",
       "      <td>Twentieth Century Fox</td>\n",
       "      <td>19-May-99</td>\n",
       "      <td>474544677</td>\n",
       "      <td>552538030</td>\n",
       "      <td>1027082707</td>\n",
       "      <td>['Action', 'Adventure', 'Fantasy', 'Sci-Fi']</td>\n",
       "      <td>2 hr 16 min</td>\n",
       "      <td>PG</td>\n",
       "    </tr>\n",
       "    <tr>\n",
       "      <th>19</th>\n",
       "      <td>19</td>\n",
       "      <td>Star Wars: Episode IV - A New Hope (1977)</td>\n",
       "      <td>Luke Skywalker joins forces with a Jedi Knight...</td>\n",
       "      <td>Twentieth Century Fox</td>\n",
       "      <td>25-May-77</td>\n",
       "      <td>460998507</td>\n",
       "      <td>195751992</td>\n",
       "      <td>775398007</td>\n",
       "      <td>['Action', 'Adventure', 'Fantasy', 'Sci-Fi']</td>\n",
       "      <td>2 hr 1 min</td>\n",
       "      <td>PG</td>\n",
       "    </tr>\n",
       "    <tr>\n",
       "      <th>44</th>\n",
       "      <td>44</td>\n",
       "      <td>Star Wars: Episode III - Revenge of the Sith (...</td>\n",
       "      <td>Three years into the Clone Wars, the Jedi resc...</td>\n",
       "      <td>Twentieth Century Fox</td>\n",
       "      <td>18-May-05</td>\n",
       "      <td>380270577</td>\n",
       "      <td>488119983</td>\n",
       "      <td>868390560</td>\n",
       "      <td>['Action', 'Adventure', 'Fantasy', 'Sci-Fi']</td>\n",
       "      <td>2 hr 20 min</td>\n",
       "      <td>PG-13</td>\n",
       "    </tr>\n",
       "    <tr>\n",
       "      <th>81</th>\n",
       "      <td>81</td>\n",
       "      <td>Star Wars: Episode II - Attack of the Clones (...</td>\n",
       "      <td>Ten years after initially meeting, Anakin Skyw...</td>\n",
       "      <td>Twentieth Century Fox</td>\n",
       "      <td>16-May-02</td>\n",
       "      <td>310676740</td>\n",
       "      <td>343103230</td>\n",
       "      <td>653779970</td>\n",
       "      <td>['Action', 'Adventure', 'Fantasy', 'Sci-Fi']</td>\n",
       "      <td>2 hr 22 min</td>\n",
       "      <td>PG</td>\n",
       "    </tr>\n",
       "    <tr>\n",
       "      <th>83</th>\n",
       "      <td>83</td>\n",
       "      <td>Star Wars: Episode VI - Return of the Jedi (1983)</td>\n",
       "      <td>After a daring mission to rescue Han Solo from...</td>\n",
       "      <td>Twentieth Century Fox</td>\n",
       "      <td>25-May-83</td>\n",
       "      <td>309306177</td>\n",
       "      <td>122009457</td>\n",
       "      <td>475106177</td>\n",
       "      <td>['Action', 'Adventure', 'Fantasy', 'Sci-Fi']</td>\n",
       "      <td>2 hr 11 min</td>\n",
       "      <td>PG</td>\n",
       "    </tr>\n",
       "    <tr>\n",
       "      <th>94</th>\n",
       "      <td>94</td>\n",
       "      <td>Star Wars: Episode V - The Empire Strikes Back...</td>\n",
       "      <td>After the Rebels are brutally overpowered by t...</td>\n",
       "      <td>Twentieth Century Fox</td>\n",
       "      <td>21-May-80</td>\n",
       "      <td>292753960</td>\n",
       "      <td>190685234</td>\n",
       "      <td>538375067</td>\n",
       "      <td>['Action', 'Adventure', 'Fantasy', 'Sci-Fi']</td>\n",
       "      <td>2 hr 4 min</td>\n",
       "      <td>PG</td>\n",
       "    </tr>\n",
       "  </tbody>\n",
       "</table>\n",
       "</div>"
      ],
      "text/plain": [
       "    Unnamed: 0                                              Title  \\\n",
       "18          18   Star Wars: Episode I - The Phantom Menace (1999)   \n",
       "19          19          Star Wars: Episode IV - A New Hope (1977)   \n",
       "44          44  Star Wars: Episode III - Revenge of the Sith (...   \n",
       "81          81  Star Wars: Episode II - Attack of the Clones (...   \n",
       "83          83  Star Wars: Episode VI - Return of the Jedi (1983)   \n",
       "94          94  Star Wars: Episode V - The Empire Strikes Back...   \n",
       "\n",
       "                                           Movie Info            Distributor  \\\n",
       "18  Two Jedi escape a hostile blockade to find all...  Twentieth Century Fox   \n",
       "19  Luke Skywalker joins forces with a Jedi Knight...  Twentieth Century Fox   \n",
       "44  Three years into the Clone Wars, the Jedi resc...  Twentieth Century Fox   \n",
       "81  Ten years after initially meeting, Anakin Skyw...  Twentieth Century Fox   \n",
       "83  After a daring mission to rescue Han Solo from...  Twentieth Century Fox   \n",
       "94  After the Rebels are brutally overpowered by t...  Twentieth Century Fox   \n",
       "\n",
       "   Release Date  Domestic Sales (in $)  International Sales (in $)  \\\n",
       "18    19-May-99              474544677                   552538030   \n",
       "19    25-May-77              460998507                   195751992   \n",
       "44    18-May-05              380270577                   488119983   \n",
       "81    16-May-02              310676740                   343103230   \n",
       "83    25-May-83              309306177                   122009457   \n",
       "94    21-May-80              292753960                   190685234   \n",
       "\n",
       "    World Sales (in $)                                         Genre  \\\n",
       "18          1027082707  ['Action', 'Adventure', 'Fantasy', 'Sci-Fi']   \n",
       "19           775398007  ['Action', 'Adventure', 'Fantasy', 'Sci-Fi']   \n",
       "44           868390560  ['Action', 'Adventure', 'Fantasy', 'Sci-Fi']   \n",
       "81           653779970  ['Action', 'Adventure', 'Fantasy', 'Sci-Fi']   \n",
       "83           475106177  ['Action', 'Adventure', 'Fantasy', 'Sci-Fi']   \n",
       "94           538375067  ['Action', 'Adventure', 'Fantasy', 'Sci-Fi']   \n",
       "\n",
       "   Movie Runtime License  \n",
       "18   2 hr 16 min      PG  \n",
       "19    2 hr 1 min      PG  \n",
       "44   2 hr 20 min   PG-13  \n",
       "81   2 hr 22 min      PG  \n",
       "83   2 hr 11 min      PG  \n",
       "94    2 hr 4 min      PG  "
      ]
     },
     "execution_count": 27,
     "metadata": {},
     "output_type": "execute_result"
    }
   ],
   "source": [
    "star6 = starwars[4:10]\n",
    "star6.sort_values(\"Domestic Sales (in $)\")\n",
    "star6"
   ]
  },
  {
   "cell_type": "markdown",
   "id": "2a57017f",
   "metadata": {},
   "source": [
    "Select the rows we need that are Title and only Domestic Sales since the survey in datset one was made in the USA"
   ]
  },
  {
   "cell_type": "code",
   "execution_count": 28,
   "id": "553dabf4",
   "metadata": {},
   "outputs": [
    {
     "data": {
      "text/html": [
       "<div>\n",
       "<style scoped>\n",
       "    .dataframe tbody tr th:only-of-type {\n",
       "        vertical-align: middle;\n",
       "    }\n",
       "\n",
       "    .dataframe tbody tr th {\n",
       "        vertical-align: top;\n",
       "    }\n",
       "\n",
       "    .dataframe thead th {\n",
       "        text-align: right;\n",
       "    }\n",
       "</style>\n",
       "<table border=\"1\" class=\"dataframe\">\n",
       "  <thead>\n",
       "    <tr style=\"text-align: right;\">\n",
       "      <th></th>\n",
       "      <th>Title</th>\n",
       "      <th>Domestic Sales (in $)</th>\n",
       "    </tr>\n",
       "  </thead>\n",
       "  <tbody>\n",
       "    <tr>\n",
       "      <th>18</th>\n",
       "      <td>Star Wars: Episode I - The Phantom Menace (1999)</td>\n",
       "      <td>474544677</td>\n",
       "    </tr>\n",
       "    <tr>\n",
       "      <th>19</th>\n",
       "      <td>Star Wars: Episode IV - A New Hope (1977)</td>\n",
       "      <td>460998507</td>\n",
       "    </tr>\n",
       "    <tr>\n",
       "      <th>44</th>\n",
       "      <td>Star Wars: Episode III - Revenge of the Sith (...</td>\n",
       "      <td>380270577</td>\n",
       "    </tr>\n",
       "    <tr>\n",
       "      <th>81</th>\n",
       "      <td>Star Wars: Episode II - Attack of the Clones (...</td>\n",
       "      <td>310676740</td>\n",
       "    </tr>\n",
       "    <tr>\n",
       "      <th>83</th>\n",
       "      <td>Star Wars: Episode VI - Return of the Jedi (1983)</td>\n",
       "      <td>309306177</td>\n",
       "    </tr>\n",
       "    <tr>\n",
       "      <th>94</th>\n",
       "      <td>Star Wars: Episode V - The Empire Strikes Back...</td>\n",
       "      <td>292753960</td>\n",
       "    </tr>\n",
       "  </tbody>\n",
       "</table>\n",
       "</div>"
      ],
      "text/plain": [
       "                                                Title  Domestic Sales (in $)\n",
       "18   Star Wars: Episode I - The Phantom Menace (1999)              474544677\n",
       "19          Star Wars: Episode IV - A New Hope (1977)              460998507\n",
       "44  Star Wars: Episode III - Revenge of the Sith (...              380270577\n",
       "81  Star Wars: Episode II - Attack of the Clones (...              310676740\n",
       "83  Star Wars: Episode VI - Return of the Jedi (1983)              309306177\n",
       "94  Star Wars: Episode V - The Empire Strikes Back...              292753960"
      ]
     },
     "execution_count": 28,
     "metadata": {},
     "output_type": "execute_result"
    }
   ],
   "source": [
    "starplot = star6[['Title', 'Domestic Sales (in $)']]\n",
    "starplot"
   ]
  },
  {
   "cell_type": "markdown",
   "id": "bcf33e15",
   "metadata": {},
   "source": [
    "Here the number one movie is Episode One, while episode Five is the last one."
   ]
  },
  {
   "cell_type": "markdown",
   "id": "5df133ac",
   "metadata": {},
   "source": [
    "Now let's plot"
   ]
  },
  {
   "cell_type": "code",
   "execution_count": 29,
   "id": "947ce32e",
   "metadata": {},
   "outputs": [
    {
     "data": {
      "image/png": "[encoded data removed]",
      "text/plain": [
       "<Figure size 720x360 with 1 Axes>"
      ]
     },
     "metadata": {
      "needs_background": "dark"
     },
     "output_type": "display_data"
    }
   ],
   "source": [
    "courses = starplot['Title']\n",
    "values = starplot['Domestic Sales (in $)']\n",
    "fig = plt.figure(figsize = (10, 5))\n",
    "#  Bar plot\n",
    "plt.bar(courses, values, color ='yellow',\n",
    "        width = 0.5)\n",
    "plt.xticks(rotation='vertical')\n",
    "plt.xlabel(\"Movies\")\n",
    "plt.ylabel(\"Domestic Sales\")\n",
    "plt.title(\"StarWars Team ApplePy\")\n",
    "plt.show()"
   ]
  },
  {
   "cell_type": "code",
   "execution_count": null,
   "id": "cd40a449",
   "metadata": {},
   "outputs": [],
   "source": []
  },
  {
   "cell_type": "code",
   "execution_count": null,
   "id": "49fe5ba5",
   "metadata": {},
   "outputs": [],
   "source": []
  }
 ],
 "metadata": {
  "kernelspec": {
   "display_name": "Python 3.10.5 64-bit",
   "language": "python",
   "name": "python3"
  },
  "language_info": {
   "codemirror_mode": {
    "name": "ipython",
    "version": 3
   },
   "file_extension": ".py",
   "mimetype": "text/x-python",
   "name": "python",
   "nbconvert_exporter": "python",
   "pygments_lexer": "ipython3",
   "version": "3.10.5"
  },
  "vscode": {
   "interpreter": {
    "hash": "787eb64f3f638bfbde74af845bebb29f0272f8b1391a793df2792a7746679107"
   }
  }
 },
 "nbformat": 4,
 "nbformat_minor": 5
}
